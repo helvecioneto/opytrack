{
 "cells": [
  {
   "cell_type": "code",
   "execution_count": 65,
   "metadata": {
    "ExecuteTime": {
     "end_time": "2019-07-17T13:48:34.680599Z",
     "start_time": "2019-07-17T13:48:34.637244Z"
    }
   },
   "outputs": [],
   "source": [
    "import os\n",
    "import numpy as np\n",
    "\n",
    "GZ = '../data/compressed/'\n",
    "RAW = '../data/uncompressed/'"
   ]
  },
  {
   "cell_type": "code",
   "execution_count": 268,
   "metadata": {
    "ExecuteTime": {
     "end_time": "2019-07-17T14:41:50.219715Z",
     "start_time": "2019-07-17T14:41:50.209511Z"
    }
   },
   "outputs": [],
   "source": [
    "i = 0\n",
    "\n",
    "def unzip(path):\n",
    "    for file in os.listdir(path):\n",
    "        !bash unzip_file.sh {file}\n",
    "        \n",
    "def readData(path):\n",
    "    ans = {}\n",
    "    for file in os.listdir(path):\n",
    "        data = np.fromfile('../data/uncompressed/'+file,dtype='float32')\n",
    "        data = np.array(data)\n",
    "        data = np.reshape(data, (241,241))\n",
    "        ans[file] = [data, file]\n",
    "    return ans\n",
    "\n",
    "def getCoords(cluster):\n",
    "    x = 0\n",
    "    y = 0\n",
    "    vx = []\n",
    "    vy = []\n",
    "\n",
    "    for i in range(len(cluster)):\n",
    "        for j in range(len(cluster)):\n",
    "            if cluster[x][y] != 0:\n",
    "                vx.append(x)\n",
    "                vy.append(y)\n",
    "            y += 1\n",
    "        x += 1\n",
    "        y = 0\n",
    "        \n",
    "    return vx,vy"
   ]
  },
  {
   "cell_type": "code",
   "execution_count": 37,
   "metadata": {
    "ExecuteTime": {
     "end_time": "2019-07-17T13:39:35.863640Z",
     "start_time": "2019-07-17T13:39:34.892797Z"
    }
   },
   "outputs": [],
   "source": [
    "unzip(GZ)"
   ]
  },
  {
   "cell_type": "code",
   "execution_count": 275,
   "metadata": {
    "ExecuteTime": {
     "end_time": "2019-07-17T14:46:08.128895Z",
     "start_time": "2019-07-17T14:46:08.125943Z"
    }
   },
   "outputs": [],
   "source": [
    "dados = readData(RAW)"
   ]
  },
  {
   "cell_type": "code",
   "execution_count": 263,
   "metadata": {
    "ExecuteTime": {
     "end_time": "2019-07-17T14:35:59.364796Z",
     "start_time": "2019-07-17T14:35:59.360327Z"
    }
   },
   "outputs": [],
   "source": [
    "k = list(dados.keys())\n",
    "cluster = dados[k[0]][0]"
   ]
  },
  {
   "cell_type": "code",
   "execution_count": 277,
   "metadata": {
    "ExecuteTime": {
     "end_time": "2019-07-17T14:46:16.404850Z",
     "start_time": "2019-07-17T14:46:16.398880Z"
    }
   },
   "outputs": [
    {
     "data": {
      "text/plain": [
       "{'R12345678_201402010124.raw': [array([[0., 0., 0., ..., 0., 0., 0.],\n",
       "         [0., 0., 0., ..., 0., 0., 0.],\n",
       "         [0., 0., 0., ..., 0., 0., 0.],\n",
       "         ...,\n",
       "         [0., 0., 0., ..., 0., 0., 0.],\n",
       "         [0., 0., 0., ..., 0., 0., 0.],\n",
       "         [0., 0., 0., ..., 0., 0., 0.]], dtype=float32),\n",
       "  'R12345678_201402010124.raw'],\n",
       " 'R12345678_201402010136.raw': [array([[0., 0., 0., ..., 0., 0., 0.],\n",
       "         [0., 0., 0., ..., 0., 0., 0.],\n",
       "         [0., 0., 0., ..., 0., 0., 0.],\n",
       "         ...,\n",
       "         [0., 0., 0., ..., 0., 0., 0.],\n",
       "         [0., 0., 0., ..., 0., 0., 0.],\n",
       "         [0., 0., 0., ..., 0., 0., 0.]], dtype=float32),\n",
       "  'R12345678_201402010136.raw'],\n",
       " 'R12345678_201402010112.raw': [array([[0., 0., 0., ..., 0., 0., 0.],\n",
       "         [0., 0., 0., ..., 0., 0., 0.],\n",
       "         [0., 0., 0., ..., 0., 0., 0.],\n",
       "         ...,\n",
       "         [0., 0., 0., ..., 0., 0., 0.],\n",
       "         [0., 0., 0., ..., 0., 0., 0.],\n",
       "         [0., 0., 0., ..., 0., 0., 0.]], dtype=float32),\n",
       "  'R12345678_201402010112.raw'],\n",
       " 'R12345678_201402010036.raw': [array([[0., 0., 0., ..., 0., 0., 0.],\n",
       "         [0., 0., 0., ..., 0., 0., 0.],\n",
       "         [0., 0., 0., ..., 0., 0., 0.],\n",
       "         ...,\n",
       "         [0., 0., 0., ..., 0., 0., 0.],\n",
       "         [0., 0., 0., ..., 0., 0., 0.],\n",
       "         [0., 0., 0., ..., 0., 0., 0.]], dtype=float32),\n",
       "  'R12345678_201402010036.raw'],\n",
       " 'R12345678_201402010012.raw': [array([[0., 0., 0., ..., 0., 0., 0.],\n",
       "         [0., 0., 0., ..., 0., 0., 0.],\n",
       "         [0., 0., 0., ..., 0., 0., 0.],\n",
       "         ...,\n",
       "         [0., 0., 0., ..., 0., 0., 0.],\n",
       "         [0., 0., 0., ..., 0., 0., 0.],\n",
       "         [0., 0., 0., ..., 0., 0., 0.]], dtype=float32),\n",
       "  'R12345678_201402010012.raw'],\n",
       " 'R12345678_201402010024.raw': [array([[0., 0., 0., ..., 0., 0., 0.],\n",
       "         [0., 0., 0., ..., 0., 0., 0.],\n",
       "         [0., 0., 0., ..., 0., 0., 0.],\n",
       "         ...,\n",
       "         [0., 0., 0., ..., 0., 0., 0.],\n",
       "         [0., 0., 0., ..., 0., 0., 0.],\n",
       "         [0., 0., 0., ..., 0., 0., 0.]], dtype=float32),\n",
       "  'R12345678_201402010024.raw'],\n",
       " 'R12345678_201402010048.raw': [array([[0., 0., 0., ..., 0., 0., 0.],\n",
       "         [0., 0., 0., ..., 0., 0., 0.],\n",
       "         [0., 0., 0., ..., 0., 0., 0.],\n",
       "         ...,\n",
       "         [0., 0., 0., ..., 0., 0., 0.],\n",
       "         [0., 0., 0., ..., 0., 0., 0.],\n",
       "         [0., 0., 0., ..., 0., 0., 0.]], dtype=float32),\n",
       "  'R12345678_201402010048.raw'],\n",
       " 'R12345678_201402010100.raw': [array([[0., 0., 0., ..., 0., 0., 0.],\n",
       "         [0., 0., 0., ..., 0., 0., 0.],\n",
       "         [0., 0., 0., ..., 0., 0., 0.],\n",
       "         ...,\n",
       "         [0., 0., 0., ..., 0., 0., 0.],\n",
       "         [0., 0., 0., ..., 0., 0., 0.],\n",
       "         [0., 0., 0., ..., 0., 0., 0.]], dtype=float32),\n",
       "  'R12345678_201402010100.raw']}"
      ]
     },
     "execution_count": 277,
     "metadata": {},
     "output_type": "execute_result"
    }
   ],
   "source": [
    "dados"
   ]
  },
  {
   "cell_type": "code",
   "execution_count": 297,
   "metadata": {
    "ExecuteTime": {
     "end_time": "2019-07-17T14:57:05.820045Z",
     "start_time": "2019-07-17T14:57:04.811511Z"
    }
   },
   "outputs": [
    {
     "data": {
      "image/png": "[encoded data removed]",
      "text/plain": [
       "<Figure size 720x432 with 4 Axes>"
      ]
     },
     "metadata": {
      "needs_background": "light"
     },
     "output_type": "display_data"
    }
   ],
   "source": [
    "import matplotlib.pyplot as plt\n",
    "import numpy as np\n",
    "\n",
    "fig, ax = plt.subplots(2,2, figsize=(10,6))\n",
    "\n",
    "kk = []\n",
    "for cluster in dados.keys():\n",
    "    kk.append(getCoords(dados[cluster][0]))\n",
    "    \n",
    "ax[0][0].scatter(kk[0][0], kk[0][1])\n",
    "\n",
    "ax[0][1].scatter(kk[1][0], kk[1][1])\n",
    "# ax[0][1].scatter()\n",
    "\n",
    "ax[1][0].scatter(kk[2][0], kk[2][1])\n",
    "# ax[1][0].scatter()\n",
    "\n",
    "ax[1][1].scatter(kk[3][0], kk[3][1])\n",
    "# ax[1][1].scatter()\n",
    "\n",
    "plt.show()"
   ]
  }
 ],
 "metadata": {
  "kernelspec": {
   "display_name": "Python 3",
   "language": "python",
   "name": "python3"
  },
  "language_info": {
   "codemirror_mode": {
    "name": "ipython",
    "version": 3
   },
   "file_extension": ".py",
   "mimetype": "text/x-python",
   "name": "python",
   "nbconvert_exporter": "python",
   "pygments_lexer": "ipython3",
   "version": "3.7.3"
  },
  "toc": {
   "base_numbering": 1,
   "nav_menu": {},
   "number_sections": true,
   "sideBar": true,
   "skip_h1_title": false,
   "title_cell": "Table of Contents",
   "title_sidebar": "Contents",
   "toc_cell": false,
   "toc_position": {},
   "toc_section_display": true,
   "toc_window_display": false
  }
 },
 "nbformat": 4,
 "nbformat_minor": 2
}
