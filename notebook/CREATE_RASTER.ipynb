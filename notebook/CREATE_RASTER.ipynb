{
 "cells": [
  {
   "cell_type": "code",
   "execution_count": 1,
   "metadata": {
    "ExecuteTime": {
     "end_time": "2019-07-18T15:41:52.159312Z",
     "start_time": "2019-07-18T15:41:51.767022Z"
    }
   },
   "outputs": [],
   "source": [
    "import numpy as np\n",
    "from osgeo import gdal\n",
    "from osgeo import gdal_array\n",
    "from osgeo import osr\n",
    "import matplotlib.pylab as plt\n",
    "\n",
    "array = np.array(( (0.1, 0.2, 0.3, 0.4),\n",
    "                   (0.2, 0.3, 0.4, 0.5),\n",
    "                   (0.3, 0.4, 0.5, 0.6),\n",
    "                   (0.4, 0.5, 0.6, 0.7),\n",
    "                   (0.5, 0.6, 0.7, 0.8) ))\n",
    "# My image array      \n",
    "lat = np.array(( (10.0, 10.0, 10.0, 10.0),\n",
    "                 ( 9.5,  9.5,  9.5,  9.5),\n",
    "                 ( 9.0,  9.0,  9.0,  9.0),\n",
    "                 ( 8.5,  8.5,  8.5,  8.5),\n",
    "                 ( 8.0,  8.0,  8.0,  8.0) ))\n",
    "lon = np.array(( (20.0, 20.5, 21.0, 21.5),\n",
    "                 (20.0, 20.5, 21.0, 21.5),\n",
    "                 (20.0, 20.5, 21.0, 21.5),\n",
    "                 (20.0, 20.5, 21.0, 21.5),\n",
    "                 (20.0, 20.5, 21.0, 21.5) ))\n",
    "# For each pixel I know it's latitude and longitude.\n",
    "# As you'll see below you only really need the coordinates of\n",
    "# one corner, and the resolution of the file.\n",
    "\n",
    "xmin,ymin,xmax,ymax = [lon.min(),lat.min(),lon.max(),lat.max()]\n",
    "nrows,ncols = np.shape(array)\n",
    "xres = (xmax-xmin)/float(ncols)\n",
    "yres = (ymax-ymin)/float(nrows)\n",
    "geotransform=(xmin,xres,0,ymax,0, -yres)   \n",
    "# That's (top left x, w-e pixel resolution, rotation (0 if North is up), \n",
    "#         top left y, rotation (0 if North is up), n-s pixel resolution)\n",
    "# I don't know why rotation is in twice???\n",
    "\n",
    "output_raster = gdal.GetDriverByName('GTiff').Create('myraster.tif',ncols, nrows, 1 ,gdal.GDT_Float32)  # Open the file\n",
    "output_raster.SetGeoTransform(geotransform)  # Specify its coordinates\n",
    "srs = osr.SpatialReference()                 # Establish its coordinate encoding\n",
    "srs.ImportFromEPSG(4326)                     # This one specifies WGS84 lat long.\n",
    "                                             # Anyone know how to specify the \n",
    "                                             # IAU2000:49900 Mars encoding?\n",
    "output_raster.SetProjection( srs.ExportToWkt() )   # Exports the coordinate system \n",
    "                                                   # to the file\n",
    "output_raster.GetRasterBand(1).WriteArray(array)   # Writes my array to the raster\n",
    "\n",
    "output_raster.FlushCache()"
   ]
  }
 ],
 "metadata": {
  "kernelspec": {
   "display_name": "Python 3",
   "language": "python",
   "name": "python3"
  },
  "language_info": {
   "codemirror_mode": {
    "name": "ipython",
    "version": 3
   },
   "file_extension": ".py",
   "mimetype": "text/x-python",
   "name": "python",
   "nbconvert_exporter": "python",
   "pygments_lexer": "ipython3",
   "version": "3.7.3"
  },
  "toc": {
   "base_numbering": 1,
   "nav_menu": {},
   "number_sections": true,
   "sideBar": true,
   "skip_h1_title": false,
   "title_cell": "Table of Contents",
   "title_sidebar": "Contents",
   "toc_cell": false,
   "toc_position": {},
   "toc_section_display": true,
   "toc_window_display": false
  }
 },
 "nbformat": 4,
 "nbformat_minor": 2
}
